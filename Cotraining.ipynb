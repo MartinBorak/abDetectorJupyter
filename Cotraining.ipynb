{
 "cells": [
  {
   "cell_type": "markdown",
   "metadata": {},
   "source": [
    "# Ukážka testovania pomocou co-trainingu"
   ]
  },
  {
   "cell_type": "code",
   "execution_count": 18,
   "metadata": {
    "collapsed": false
   },
   "outputs": [],
   "source": [
    "from sklearn.ensemble import AdaBoostClassifier\n",
    "from sklearn.ensemble import ExtraTreesClassifier\n",
    "import pandas as pd\n",
    "from classifiers import CoTrainingClassifier\n",
    "from sklearn.metrics import f1_score, accuracy_score, precision_score, recall_score"
   ]
  },
  {
   "cell_type": "markdown",
   "metadata": {},
   "source": [
    "### Funkcia na testovanie pomocou co-trainingu"
   ]
  },
  {
   "cell_type": "code",
   "execution_count": 22,
   "metadata": {
    "collapsed": true
   },
   "outputs": [],
   "source": [
    "def cotrain(labels_1, labels_2, name_1, name_2, classifier_1, classifier_2, iterations=1, u=75, p=1, n=1, k_i=30):\n",
    "    accuracy = 0.0\n",
    "    precision = 0.0\n",
    "    recall = 0.0\n",
    "    f1 = 0.0\n",
    "\n",
    "    k = 10\n",
    "\n",
    "    for idx in range(k):\n",
    "        train_file = 'cotrain/train/cotrain_data_train_%d.csv' % idx\n",
    "        test_file = 'cotrain/test/cotrain_data_test_%d.csv' % idx\n",
    "        \n",
    "        train_data = pd.read_csv(train_file)\n",
    "        test_data = pd.read_csv(test_file)\n",
    "\n",
    "        for i in range(iterations):\n",
    "\n",
    "            y_test = test_data['hateLabel'].values\n",
    "            y = train_data['hateLabel'].values\n",
    "\n",
    "            X1 = train_data[labels_1].values\n",
    "            X2 = train_data[labels_2].values\n",
    "            X1_test = test_data[labels_1].values\n",
    "            X2_test = test_data[labels_2].values\n",
    "\n",
    "            lg_co_clf = CoTrainingClassifier(classifier_1, classifier_2, u=u, p=p, n=n, k=k_i)\n",
    "            lg_co_clf.fit(X1, X2, y)\n",
    "            y_pred = lg_co_clf.predict(X1_test, X2_test)\n",
    "\n",
    "            TP, FP, TN, FN = perf_measure(y_test, y_pred)\n",
    "\n",
    "            accuracy += accuracy_score(y_test, y_pred)\n",
    "            precision += precision_score(y_test, y_pred)\n",
    "            recall += recall_score(y_test, y_pred)\n",
    "            temp_f1 = f1_score(y_test, y_pred)\n",
    "            f1 += temp_f1\n",
    "\n",
    "            print(i)\n",
    "\n",
    "    print('Accuracy:\\t' + str(accuracy / (iterations * k)) + '\\n')\n",
    "    print('Precision:\\t' + str(precision / (iterations * k)) + '\\n')\n",
    "    print('Recall:\\t\\t' + str(recall / (iterations * k)) + '\\n')\n",
    "    print('F1 score:\\t' + str(f1 / (iterations * k)) + '\\n\\n')"
   ]
  },
  {
   "cell_type": "markdown",
   "metadata": {},
   "source": [
    "### Funkcia na zavolanie co-trainingu pre špecifikované algoritmy, parametre a črty"
   ]
  },
  {
   "cell_type": "code",
   "execution_count": 20,
   "metadata": {
    "collapsed": true
   },
   "outputs": [],
   "source": [
    "def cotrain_play(u, p, n, k_i):\n",
    "    labels_1 = [\n",
    "        'badWordsCount',\n",
    "        'badWordsRatio',\n",
    "        'capitalLetterRatio',\n",
    "        'capitalWordRatio',\n",
    "        'diversityScore',\n",
    "        'firstPronounsCount',\n",
    "        'hatewordsCount',\n",
    "        'hatewordsRatio',\n",
    "        'insultsCount',\n",
    "        'insultsRatio',\n",
    "        'neutralCoefficient',\n",
    "        'punctuationRatio',\n",
    "        'readabilityScore',\n",
    "        'secondPronounsCount',\n",
    "        'secondPronounsToWordRatio',\n",
    "        'sentimentLabel',\n",
    "        'textDisplayLength',\n",
    "        'textDisplayProcessedLength',\n",
    "        'textDisplayProcessedWordsCount',\n",
    "        'textDisplayWordsCount',\n",
    "        'anger',\n",
    "        'disgust',\n",
    "        'fear',\n",
    "        'joy',\n",
    "        'sadness',\n",
    "        'analytical',\n",
    "        'confident',\n",
    "        'tentative'\n",
    "    ]\n",
    "\n",
    "    labels_2 = [\n",
    "        'likeCount',\n",
    "        'totalReplyCount',\n",
    "        'diffLikeCount',\n",
    "        'userAverageBadWordsCount',\n",
    "        'userAverageBadWordsRatio',\n",
    "        'userAverageCapitalLetterRatio',\n",
    "        'userAverageCapitalWordRatio',\n",
    "        'userAverageEmoticonCount',\n",
    "        'userAverageEmoticonToWordRatio',\n",
    "        'userAverageFirstPronounsCount',\n",
    "        'userAverageFirstPronounsToWordRatio',\n",
    "        'userAverageHatewordsCount',\n",
    "        'userAverageHatewordsRatio',\n",
    "        'userAverageInsultsCount',\n",
    "        'userAverageInsultsRatio',\n",
    "        'userAverageLikeCount',\n",
    "        'userAverageNegativeCoefficient',\n",
    "        'userAverageNeutralCoefficient',\n",
    "        'userAveragePositiveCoefficient',\n",
    "        'userAverageProfanityWindow2',\n",
    "        'userAveragePunctuationRatio',\n",
    "        'userAverageSecondPronounsCount',\n",
    "        'userAverageSecondPronounsToWordRatio',\n",
    "        'userAverageTextDisplayLength',\n",
    "        'userAverageTextDisplayProcessedLength',\n",
    "        'userAverageTextDisplayProcessedWordsCount',\n",
    "        'userAverageTextDisplayWordsCount',\n",
    "        'userNumberOfComments',\n",
    "        'userNumberOfContent',\n",
    "        'userNumberOfReplies'\n",
    "    ]\n",
    "\n",
    "    i = 0\n",
    "\n",
    "    name_1 = 'ExtraTreesClassifier'\n",
    "    name_2 = 'AdaBoostClassifier - ExtraTreesClassifier'\n",
    "\n",
    "    classifier_1 = ExtraTreesClassifier(n_estimators=200,\n",
    "                                        n_jobs=-1,\n",
    "                                        max_features='sqrt',\n",
    "                                        min_samples_leaf=1,\n",
    "                                        max_depth=5)\n",
    "\n",
    "    classifier_2 = AdaBoostClassifier(base_estimator=ExtraTreesClassifier(n_estimators=200,\n",
    "                                                                          n_jobs=-1,\n",
    "                                                                          max_features='sqrt',\n",
    "                                                                          min_samples_leaf=1,\n",
    "                                                                          max_depth=5),\n",
    "                                      n_estimators=200)\n",
    "\n",
    "    cotrain(labels_1, labels_2, name_1, name_2, classifier_1, classifier_2, iterations=1, u=u, p=p, n=n, k_i=k_i)"
   ]
  },
  {
   "cell_type": "markdown",
   "metadata": {},
   "source": [
    "### Funkcia na výpočet confusion matrix"
   ]
  },
  {
   "cell_type": "code",
   "execution_count": 24,
   "metadata": {
    "collapsed": true
   },
   "outputs": [],
   "source": [
    "def perf_measure(y_actual, y_hat):\n",
    "    TP = 0\n",
    "    FP = 0\n",
    "    TN = 0\n",
    "    FN = 0\n",
    "\n",
    "    for i in range(len(y_hat)):\n",
    "        if y_actual[i] == y_hat[i] == 1:\n",
    "            TP += 1\n",
    "    for i in range(len(y_hat)):\n",
    "        if y_hat[i] == 1 and y_actual[i] != y_hat[i]:\n",
    "            FP += 1\n",
    "    for i in range(len(y_hat)):\n",
    "        if y_actual[i] == y_hat[i] == 0:\n",
    "            TN += 1\n",
    "    for i in range(len(y_hat)):\n",
    "        if y_hat[i] == 0 and y_actual[i] != y_hat[i]:\n",
    "            FN += 1\n",
    "\n",
    "    return TP, FP, TN, FN"
   ]
  },
  {
   "cell_type": "markdown",
   "metadata": {},
   "source": [
    "### Zavolanie funkcie\n",
    "Výpočet môže trvať niekoľko minút. Vústupom sú hodnoty accuracy, precision, recall, F1."
   ]
  },
  {
   "cell_type": "code",
   "execution_count": 25,
   "metadata": {
    "collapsed": false
   },
   "outputs": [
    {
     "name": "stdout",
     "output_type": "stream",
     "text": [
      "0\n",
      "0\n",
      "0\n",
      "0\n",
      "0\n",
      "0\n",
      "0\n",
      "0\n",
      "0\n",
      "0\n",
      "Accuracy:\t0.756762820513\n",
      "\n",
      "Precision:\t0.474974707396\n",
      "\n",
      "Recall:\t\t0.676470588235\n",
      "\n",
      "F1 score:\t0.553776148837\n",
      "\n",
      "\n"
     ]
    }
   ],
   "source": [
    "cotrain_play(1000, 8, 2, 1)"
   ]
  },
  {
   "cell_type": "code",
   "execution_count": null,
   "metadata": {
    "collapsed": true
   },
   "outputs": [],
   "source": []
  }
 ],
 "metadata": {
  "anaconda-cloud": {},
  "kernelspec": {
   "display_name": "Python [conda root]",
   "language": "python",
   "name": "conda-root-py"
  },
  "language_info": {
   "codemirror_mode": {
    "name": "ipython",
    "version": 3
   },
   "file_extension": ".py",
   "mimetype": "text/x-python",
   "name": "python",
   "nbconvert_exporter": "python",
   "pygments_lexer": "ipython3",
   "version": "3.5.2"
  }
 },
 "nbformat": 4,
 "nbformat_minor": 1
}
