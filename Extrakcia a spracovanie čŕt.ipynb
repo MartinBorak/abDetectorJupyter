{
 "cells": [
  {
   "cell_type": "markdown",
   "metadata": {},
   "source": [
    "# Extrakcia čŕt"
   ]
  },
  {
   "cell_type": "markdown",
   "metadata": {},
   "source": [
    "Ukážka extrakcie a spracovania čŕt na malej vzorke dát."
   ]
  },
  {
   "cell_type": "code",
   "execution_count": 41,
   "metadata": {
    "collapsed": true
   },
   "outputs": [],
   "source": [
    "import re\n",
    "import ast\n",
    "import string\n",
    "import pandas as pd\n",
    "from copy import deepcopy\n",
    "from nltk.corpus import stopwords\n",
    "from nltk.stem import WordNetLemmatizer\n",
    "from textstat.textstat import textstat\n",
    "from urllib import parse, request"
   ]
  },
  {
   "cell_type": "markdown",
   "metadata": {},
   "source": [
    "### Načítaj CSV"
   ]
  },
  {
   "cell_type": "code",
   "execution_count": 12,
   "metadata": {
    "collapsed": false
   },
   "outputs": [],
   "source": [
    "data = pd.read_csv('sample.csv', index_col=0)"
   ]
  },
  {
   "cell_type": "code",
   "execution_count": 13,
   "metadata": {
    "collapsed": false
   },
   "outputs": [
    {
     "data": {
      "text/plain": [
       "(5, 1)"
      ]
     },
     "execution_count": 13,
     "metadata": {},
     "output_type": "execute_result"
    }
   ],
   "source": [
    "data.shape"
   ]
  },
  {
   "cell_type": "code",
   "execution_count": 14,
   "metadata": {
    "collapsed": false
   },
   "outputs": [
    {
     "data": {
      "text/html": [
       "<div>\n",
       "<table border=\"1\" class=\"dataframe\">\n",
       "  <thead>\n",
       "    <tr style=\"text-align: right;\">\n",
       "      <th></th>\n",
       "      <th>textDisplay</th>\n",
       "    </tr>\n",
       "  </thead>\n",
       "  <tbody>\n",
       "    <tr>\n",
       "      <th>0</th>\n",
       "      <td>It has been explained many times - they simply...</td>\n",
       "    </tr>\n",
       "    <tr>\n",
       "      <th>1</th>\n",
       "      <td>+zebbedi I'm comparing your pipe dream to thos...</td>\n",
       "    </tr>\n",
       "    <tr>\n",
       "      <th>2</th>\n",
       "      <td>yes</td>\n",
       "    </tr>\n",
       "    <tr>\n",
       "      <th>3</th>\n",
       "      <td>+Maxwell Montgomery That is a very restrictive...</td>\n",
       "    </tr>\n",
       "    <tr>\n",
       "      <th>4</th>\n",
       "      <td>Well Tyler .. Do you ever ask yourself why bot...</td>\n",
       "    </tr>\n",
       "  </tbody>\n",
       "</table>\n",
       "</div>"
      ],
      "text/plain": [
       "                                         textDisplay\n",
       "0  It has been explained many times - they simply...\n",
       "1  +zebbedi I'm comparing your pipe dream to thos...\n",
       "2                                                yes\n",
       "3  +Maxwell Montgomery That is a very restrictive...\n",
       "4  Well Tyler .. Do you ever ask yourself why bot..."
      ]
     },
     "execution_count": 14,
     "metadata": {},
     "output_type": "execute_result"
    }
   ],
   "source": [
    "data"
   ]
  },
  {
   "cell_type": "markdown",
   "metadata": {},
   "source": [
    "### Lematizácia, odstránenie stop-slov"
   ]
  },
  {
   "cell_type": "code",
   "execution_count": 16,
   "metadata": {
    "collapsed": false
   },
   "outputs": [
    {
     "data": {
      "text/plain": [
       "(5, 2)"
      ]
     },
     "execution_count": 16,
     "metadata": {},
     "output_type": "execute_result"
    }
   ],
   "source": [
    "lemmatizer = WordNetLemmatizer()\n",
    "\n",
    "comments = data['textDisplay']\n",
    "\n",
    "new_comments = []\n",
    "\n",
    "for idx, comment in enumerate(comments, 1):\n",
    "    line = [word for word in comment.split() if word.casefold() not in (stopwords.words('english'))]\n",
    "    line = ' '.join([lemmatizer.lemmatize(word) for word in line])\n",
    "    new_comments.append(line)\n",
    "\n",
    "data['textDisplayProcessed'] = pd.DataFrame(new_comments)\n",
    "\n",
    "data.shape"
   ]
  },
  {
   "cell_type": "code",
   "execution_count": 17,
   "metadata": {
    "collapsed": false
   },
   "outputs": [
    {
     "data": {
      "text/html": [
       "<div>\n",
       "<table border=\"1\" class=\"dataframe\">\n",
       "  <thead>\n",
       "    <tr style=\"text-align: right;\">\n",
       "      <th></th>\n",
       "      <th>textDisplay</th>\n",
       "      <th>textDisplayProcessed</th>\n",
       "    </tr>\n",
       "  </thead>\n",
       "  <tbody>\n",
       "    <tr>\n",
       "      <th>0</th>\n",
       "      <td>It has been explained many times - they simply...</td>\n",
       "      <td>explained many time - simply believe Trump say...</td>\n",
       "    </tr>\n",
       "    <tr>\n",
       "      <th>1</th>\n",
       "      <td>+zebbedi I'm comparing your pipe dream to thos...</td>\n",
       "      <td>+zebbedi I'm comparing pipe dream lottery winn...</td>\n",
       "    </tr>\n",
       "    <tr>\n",
       "      <th>2</th>\n",
       "      <td>yes</td>\n",
       "      <td>yes</td>\n",
       "    </tr>\n",
       "    <tr>\n",
       "      <th>3</th>\n",
       "      <td>+Maxwell Montgomery That is a very restrictive...</td>\n",
       "      <td>+Maxwell Montgomery restrictive interpretation...</td>\n",
       "    </tr>\n",
       "    <tr>\n",
       "      <th>4</th>\n",
       "      <td>Well Tyler .. Do you ever ask yourself why bot...</td>\n",
       "      <td>Well Tyler .. ever ask party people hate them....</td>\n",
       "    </tr>\n",
       "  </tbody>\n",
       "</table>\n",
       "</div>"
      ],
      "text/plain": [
       "                                         textDisplay  \\\n",
       "0  It has been explained many times - they simply...   \n",
       "1  +zebbedi I'm comparing your pipe dream to thos...   \n",
       "2                                                yes   \n",
       "3  +Maxwell Montgomery That is a very restrictive...   \n",
       "4  Well Tyler .. Do you ever ask yourself why bot...   \n",
       "\n",
       "                                textDisplayProcessed  \n",
       "0  explained many time - simply believe Trump say...  \n",
       "1  +zebbedi I'm comparing pipe dream lottery winn...  \n",
       "2                                                yes  \n",
       "3  +Maxwell Montgomery restrictive interpretation...  \n",
       "4  Well Tyler .. ever ask party people hate them....  "
      ]
     },
     "execution_count": 17,
     "metadata": {},
     "output_type": "execute_result"
    }
   ],
   "source": [
    "data"
   ]
  },
  {
   "cell_type": "markdown",
   "metadata": {},
   "source": [
    "### Extrakcia dĺžky"
   ]
  },
  {
   "cell_type": "code",
   "execution_count": 25,
   "metadata": {
    "collapsed": false
   },
   "outputs": [
    {
     "data": {
      "text/plain": [
       "(5, 6)"
      ]
     },
     "execution_count": 25,
     "metadata": {},
     "output_type": "execute_result"
    }
   ],
   "source": [
    "comments = data['textDisplay']\n",
    "comments_processed = data['textDisplayProcessed']\n",
    "\n",
    "ln = []\n",
    "ln_p = []\n",
    "\n",
    "count = []\n",
    "count_processed = []\n",
    "\n",
    "for comment in zip(comments, comments_processed):\n",
    "    ln.append(len(list(comment)[0]))\n",
    "    ln_p.append(len(list(comment)[1]))\n",
    "    count.append(len(list(comment)[0].split()))\n",
    "    count_processed.append(len(list(comment)[1].split()))\n",
    "\n",
    "data['textDisplayWordsCount'] = pd.DataFrame(count)\n",
    "data['textDisplayProcessedWordsCount'] = pd.DataFrame(count_processed)\n",
    "data['textDisplayLength'] = pd.DataFrame(ln)\n",
    "data['textDisplayProcessedLength'] = pd.DataFrame(ln_p)\n",
    "\n",
    "data.shape"
   ]
  },
  {
   "cell_type": "code",
   "execution_count": 26,
   "metadata": {
    "collapsed": false
   },
   "outputs": [
    {
     "data": {
      "text/html": [
       "<div>\n",
       "<table border=\"1\" class=\"dataframe\">\n",
       "  <thead>\n",
       "    <tr style=\"text-align: right;\">\n",
       "      <th></th>\n",
       "      <th>textDisplay</th>\n",
       "      <th>textDisplayProcessed</th>\n",
       "      <th>textDisplayLength</th>\n",
       "      <th>textDisplayProcessedLength</th>\n",
       "      <th>textDisplayWordsCount</th>\n",
       "      <th>textDisplayProcessedWordsCount</th>\n",
       "    </tr>\n",
       "  </thead>\n",
       "  <tbody>\n",
       "    <tr>\n",
       "      <th>0</th>\n",
       "      <td>It has been explained many times - they simply...</td>\n",
       "      <td>explained many time - simply believe Trump say...</td>\n",
       "      <td>741</td>\n",
       "      <td>479</td>\n",
       "      <td>130</td>\n",
       "      <td>71</td>\n",
       "    </tr>\n",
       "    <tr>\n",
       "      <th>1</th>\n",
       "      <td>+zebbedi I'm comparing your pipe dream to thos...</td>\n",
       "      <td>+zebbedi I'm comparing pipe dream lottery winn...</td>\n",
       "      <td>71</td>\n",
       "      <td>50</td>\n",
       "      <td>12</td>\n",
       "      <td>7</td>\n",
       "    </tr>\n",
       "    <tr>\n",
       "      <th>2</th>\n",
       "      <td>yes</td>\n",
       "      <td>yes</td>\n",
       "      <td>3</td>\n",
       "      <td>3</td>\n",
       "      <td>1</td>\n",
       "      <td>1</td>\n",
       "    </tr>\n",
       "    <tr>\n",
       "      <th>3</th>\n",
       "      <td>+Maxwell Montgomery That is a very restrictive...</td>\n",
       "      <td>+Maxwell Montgomery restrictive interpretation...</td>\n",
       "      <td>120</td>\n",
       "      <td>84</td>\n",
       "      <td>19</td>\n",
       "      <td>10</td>\n",
       "    </tr>\n",
       "    <tr>\n",
       "      <th>4</th>\n",
       "      <td>Well Tyler .. Do you ever ask yourself why bot...</td>\n",
       "      <td>Well Tyler .. ever ask party people hate them....</td>\n",
       "      <td>163</td>\n",
       "      <td>92</td>\n",
       "      <td>30</td>\n",
       "      <td>14</td>\n",
       "    </tr>\n",
       "  </tbody>\n",
       "</table>\n",
       "</div>"
      ],
      "text/plain": [
       "                                         textDisplay  \\\n",
       "0  It has been explained many times - they simply...   \n",
       "1  +zebbedi I'm comparing your pipe dream to thos...   \n",
       "2                                                yes   \n",
       "3  +Maxwell Montgomery That is a very restrictive...   \n",
       "4  Well Tyler .. Do you ever ask yourself why bot...   \n",
       "\n",
       "                                textDisplayProcessed  textDisplayLength  \\\n",
       "0  explained many time - simply believe Trump say...                741   \n",
       "1  +zebbedi I'm comparing pipe dream lottery winn...                 71   \n",
       "2                                                yes                  3   \n",
       "3  +Maxwell Montgomery restrictive interpretation...                120   \n",
       "4  Well Tyler .. ever ask party people hate them....                163   \n",
       "\n",
       "   textDisplayProcessedLength  textDisplayWordsCount  \\\n",
       "0                         479                    130   \n",
       "1                          50                     12   \n",
       "2                           3                      1   \n",
       "3                          84                     19   \n",
       "4                          92                     30   \n",
       "\n",
       "   textDisplayProcessedWordsCount  \n",
       "0                              71  \n",
       "1                               7  \n",
       "2                               1  \n",
       "3                              10  \n",
       "4                              14  "
      ]
     },
     "execution_count": 26,
     "metadata": {},
     "output_type": "execute_result"
    }
   ],
   "source": [
    "data"
   ]
  },
  {
   "cell_type": "markdown",
   "metadata": {},
   "source": [
    "### Extrakcia počtu hejterských slov"
   ]
  },
  {
   "cell_type": "code",
   "execution_count": 27,
   "metadata": {
    "collapsed": false
   },
   "outputs": [
    {
     "data": {
      "text/plain": [
       "(5, 8)"
      ]
     },
     "execution_count": 27,
     "metadata": {},
     "output_type": "execute_result"
    }
   ],
   "source": [
    "hate = []\n",
    "\n",
    "with open('hatewords.txt', 'r') as hate_file:\n",
    "    for word in hate_file.readlines():\n",
    "        word = re.sub('\\n', '', word)\n",
    "        hate.append(word.casefold())\n",
    "\n",
    "exclude = set(string.punctuation)\n",
    "\n",
    "exp = '(%s)' % '|'.join(hate)\n",
    "\n",
    "comments = data['textDisplayProcessed']\n",
    "word_count = data['textDisplayProcessedWordsCount']\n",
    "\n",
    "iw = []\n",
    "iwr = []\n",
    "\n",
    "for idx, comment in enumerate(comments):\n",
    "    line = ''.join(char for char in comment if char not in exclude)\n",
    "    l = len(re.findall(exp, line.casefold()))\n",
    "    iw.append(l)\n",
    "    iwr.append(l / word_count[idx])\n",
    "\n",
    "data['hatewordsCount'] = pd.DataFrame(iw)\n",
    "data['hatewordsRatio'] = pd.DataFrame(iwr)\n",
    "\n",
    "data.shape"
   ]
  },
  {
   "cell_type": "code",
   "execution_count": 28,
   "metadata": {
    "collapsed": false
   },
   "outputs": [
    {
     "data": {
      "text/html": [
       "<div>\n",
       "<table border=\"1\" class=\"dataframe\">\n",
       "  <thead>\n",
       "    <tr style=\"text-align: right;\">\n",
       "      <th></th>\n",
       "      <th>textDisplay</th>\n",
       "      <th>textDisplayProcessed</th>\n",
       "      <th>textDisplayLength</th>\n",
       "      <th>textDisplayProcessedLength</th>\n",
       "      <th>textDisplayWordsCount</th>\n",
       "      <th>textDisplayProcessedWordsCount</th>\n",
       "      <th>hatewordsCount</th>\n",
       "      <th>hatewordsRatio</th>\n",
       "    </tr>\n",
       "  </thead>\n",
       "  <tbody>\n",
       "    <tr>\n",
       "      <th>0</th>\n",
       "      <td>It has been explained many times - they simply...</td>\n",
       "      <td>explained many time - simply believe Trump say...</td>\n",
       "      <td>741</td>\n",
       "      <td>479</td>\n",
       "      <td>130</td>\n",
       "      <td>71</td>\n",
       "      <td>6</td>\n",
       "      <td>0.084507</td>\n",
       "    </tr>\n",
       "    <tr>\n",
       "      <th>1</th>\n",
       "      <td>+zebbedi I'm comparing your pipe dream to thos...</td>\n",
       "      <td>+zebbedi I'm comparing pipe dream lottery winn...</td>\n",
       "      <td>71</td>\n",
       "      <td>50</td>\n",
       "      <td>12</td>\n",
       "      <td>7</td>\n",
       "      <td>0</td>\n",
       "      <td>0.000000</td>\n",
       "    </tr>\n",
       "    <tr>\n",
       "      <th>2</th>\n",
       "      <td>yes</td>\n",
       "      <td>yes</td>\n",
       "      <td>3</td>\n",
       "      <td>3</td>\n",
       "      <td>1</td>\n",
       "      <td>1</td>\n",
       "      <td>0</td>\n",
       "      <td>0.000000</td>\n",
       "    </tr>\n",
       "    <tr>\n",
       "      <th>3</th>\n",
       "      <td>+Maxwell Montgomery That is a very restrictive...</td>\n",
       "      <td>+Maxwell Montgomery restrictive interpretation...</td>\n",
       "      <td>120</td>\n",
       "      <td>84</td>\n",
       "      <td>19</td>\n",
       "      <td>10</td>\n",
       "      <td>1</td>\n",
       "      <td>0.100000</td>\n",
       "    </tr>\n",
       "    <tr>\n",
       "      <th>4</th>\n",
       "      <td>Well Tyler .. Do you ever ask yourself why bot...</td>\n",
       "      <td>Well Tyler .. ever ask party people hate them....</td>\n",
       "      <td>163</td>\n",
       "      <td>92</td>\n",
       "      <td>30</td>\n",
       "      <td>14</td>\n",
       "      <td>1</td>\n",
       "      <td>0.071429</td>\n",
       "    </tr>\n",
       "  </tbody>\n",
       "</table>\n",
       "</div>"
      ],
      "text/plain": [
       "                                         textDisplay  \\\n",
       "0  It has been explained many times - they simply...   \n",
       "1  +zebbedi I'm comparing your pipe dream to thos...   \n",
       "2                                                yes   \n",
       "3  +Maxwell Montgomery That is a very restrictive...   \n",
       "4  Well Tyler .. Do you ever ask yourself why bot...   \n",
       "\n",
       "                                textDisplayProcessed  textDisplayLength  \\\n",
       "0  explained many time - simply believe Trump say...                741   \n",
       "1  +zebbedi I'm comparing pipe dream lottery winn...                 71   \n",
       "2                                                yes                  3   \n",
       "3  +Maxwell Montgomery restrictive interpretation...                120   \n",
       "4  Well Tyler .. ever ask party people hate them....                163   \n",
       "\n",
       "   textDisplayProcessedLength  textDisplayWordsCount  \\\n",
       "0                         479                    130   \n",
       "1                          50                     12   \n",
       "2                           3                      1   \n",
       "3                          84                     19   \n",
       "4                          92                     30   \n",
       "\n",
       "   textDisplayProcessedWordsCount  hatewordsCount  hatewordsRatio  \n",
       "0                              71               6        0.084507  \n",
       "1                               7               0        0.000000  \n",
       "2                               1               0        0.000000  \n",
       "3                              10               1        0.100000  \n",
       "4                              14               1        0.071429  "
      ]
     },
     "execution_count": 28,
     "metadata": {},
     "output_type": "execute_result"
    }
   ],
   "source": [
    "data"
   ]
  },
  {
   "cell_type": "markdown",
   "metadata": {},
   "source": [
    "### Extrakcia čitateľnosti"
   ]
  },
  {
   "cell_type": "code",
   "execution_count": 31,
   "metadata": {
    "collapsed": false
   },
   "outputs": [
    {
     "data": {
      "text/plain": [
       "(5, 9)"
      ]
     },
     "execution_count": 31,
     "metadata": {},
     "output_type": "execute_result"
    }
   ],
   "source": [
    "comments = data['textDisplay']\n",
    "\n",
    "readability = []\n",
    "\n",
    "for comment in comments:\n",
    "    readability.append(textstat.flesch_kincaid_grade(comment))\n",
    "\n",
    "data['readabilityScore'] = pd.DataFrame(readability)\n",
    "\n",
    "data.shape"
   ]
  },
  {
   "cell_type": "code",
   "execution_count": 32,
   "metadata": {
    "collapsed": false
   },
   "outputs": [
    {
     "data": {
      "text/html": [
       "<div>\n",
       "<table border=\"1\" class=\"dataframe\">\n",
       "  <thead>\n",
       "    <tr style=\"text-align: right;\">\n",
       "      <th></th>\n",
       "      <th>textDisplay</th>\n",
       "      <th>textDisplayProcessed</th>\n",
       "      <th>textDisplayLength</th>\n",
       "      <th>textDisplayProcessedLength</th>\n",
       "      <th>textDisplayWordsCount</th>\n",
       "      <th>textDisplayProcessedWordsCount</th>\n",
       "      <th>hatewordsCount</th>\n",
       "      <th>hatewordsRatio</th>\n",
       "      <th>readabilityScore</th>\n",
       "    </tr>\n",
       "  </thead>\n",
       "  <tbody>\n",
       "    <tr>\n",
       "      <th>0</th>\n",
       "      <td>It has been explained many times - they simply...</td>\n",
       "      <td>explained many time - simply believe Trump say...</td>\n",
       "      <td>741</td>\n",
       "      <td>479</td>\n",
       "      <td>130</td>\n",
       "      <td>71</td>\n",
       "      <td>6</td>\n",
       "      <td>0.084507</td>\n",
       "      <td>6.5</td>\n",
       "    </tr>\n",
       "    <tr>\n",
       "      <th>1</th>\n",
       "      <td>+zebbedi I'm comparing your pipe dream to thos...</td>\n",
       "      <td>+zebbedi I'm comparing pipe dream lottery winn...</td>\n",
       "      <td>71</td>\n",
       "      <td>50</td>\n",
       "      <td>12</td>\n",
       "      <td>7</td>\n",
       "      <td>0</td>\n",
       "      <td>0.000000</td>\n",
       "      <td>8.0</td>\n",
       "    </tr>\n",
       "    <tr>\n",
       "      <th>2</th>\n",
       "      <td>yes</td>\n",
       "      <td>yes</td>\n",
       "      <td>3</td>\n",
       "      <td>3</td>\n",
       "      <td>1</td>\n",
       "      <td>1</td>\n",
       "      <td>0</td>\n",
       "      <td>0.000000</td>\n",
       "      <td>-4.6</td>\n",
       "    </tr>\n",
       "    <tr>\n",
       "      <th>3</th>\n",
       "      <td>+Maxwell Montgomery That is a very restrictive...</td>\n",
       "      <td>+Maxwell Montgomery restrictive interpretation...</td>\n",
       "      <td>120</td>\n",
       "      <td>84</td>\n",
       "      <td>19</td>\n",
       "      <td>10</td>\n",
       "      <td>1</td>\n",
       "      <td>0.100000</td>\n",
       "      <td>13.1</td>\n",
       "    </tr>\n",
       "    <tr>\n",
       "      <th>4</th>\n",
       "      <td>Well Tyler .. Do you ever ask yourself why bot...</td>\n",
       "      <td>Well Tyler .. ever ask party people hate them....</td>\n",
       "      <td>163</td>\n",
       "      <td>92</td>\n",
       "      <td>30</td>\n",
       "      <td>14</td>\n",
       "      <td>1</td>\n",
       "      <td>0.071429</td>\n",
       "      <td>7.8</td>\n",
       "    </tr>\n",
       "  </tbody>\n",
       "</table>\n",
       "</div>"
      ],
      "text/plain": [
       "                                         textDisplay  \\\n",
       "0  It has been explained many times - they simply...   \n",
       "1  +zebbedi I'm comparing your pipe dream to thos...   \n",
       "2                                                yes   \n",
       "3  +Maxwell Montgomery That is a very restrictive...   \n",
       "4  Well Tyler .. Do you ever ask yourself why bot...   \n",
       "\n",
       "                                textDisplayProcessed  textDisplayLength  \\\n",
       "0  explained many time - simply believe Trump say...                741   \n",
       "1  +zebbedi I'm comparing pipe dream lottery winn...                 71   \n",
       "2                                                yes                  3   \n",
       "3  +Maxwell Montgomery restrictive interpretation...                120   \n",
       "4  Well Tyler .. ever ask party people hate them....                163   \n",
       "\n",
       "   textDisplayProcessedLength  textDisplayWordsCount  \\\n",
       "0                         479                    130   \n",
       "1                          50                     12   \n",
       "2                           3                      1   \n",
       "3                          84                     19   \n",
       "4                          92                     30   \n",
       "\n",
       "   textDisplayProcessedWordsCount  hatewordsCount  hatewordsRatio  \\\n",
       "0                              71               6        0.084507   \n",
       "1                               7               0        0.000000   \n",
       "2                               1               0        0.000000   \n",
       "3                              10               1        0.100000   \n",
       "4                              14               1        0.071429   \n",
       "\n",
       "   readabilityScore  \n",
       "0               6.5  \n",
       "1               8.0  \n",
       "2              -4.6  \n",
       "3              13.1  \n",
       "4               7.8  "
      ]
     },
     "execution_count": 32,
     "metadata": {},
     "output_type": "execute_result"
    }
   ],
   "source": [
    "data"
   ]
  },
  {
   "cell_type": "markdown",
   "metadata": {},
   "source": [
    "### Sentiment analysis"
   ]
  },
  {
   "cell_type": "code",
   "execution_count": 36,
   "metadata": {
    "collapsed": false
   },
   "outputs": [
    {
     "data": {
      "text/plain": [
       "(5, 13)"
      ]
     },
     "execution_count": 36,
     "metadata": {},
     "output_type": "execute_result"
    }
   ],
   "source": [
    "comments = data['textDisplay']\n",
    "\n",
    "neg = []\n",
    "neutral = []\n",
    "pos = []\n",
    "label = []  # neg = 0, neutral = 1, pos = 2\n",
    "\n",
    "res = []\n",
    "\n",
    "for idx, comment in enumerate(comments, 1):\n",
    "    my_data = parse.urlencode({\"language\": \"english\", \"text\": comment})\n",
    "    request_headers = {\n",
    "        \"X-Mashape-Key\": \"DskPmxMLhxmsh9daKprt5IgtYFB0p1KtZnwjsnnkSn82RLmw9U\",\n",
    "        \"Content-Type\": \"application/x-www-form-urlencoded\",\n",
    "        \"Accept\": \"application/json\"\n",
    "    }\n",
    "    req = request.Request(\"https://japerk-text-processing.p.mashape.com/sentiment/\",\n",
    "                          data=str.encode(my_data),\n",
    "                          headers=request_headers)\n",
    "\n",
    "    u = request.urlopen(req)\n",
    "\n",
    "    result = ast.literal_eval((u.read()).decode('ascii'))\n",
    "    res.append(result)\n",
    "\n",
    "    neg.append(result['probability']['neg'])\n",
    "    neutral.append(result['probability']['neutral'])\n",
    "    pos.append(result['probability']['pos'])\n",
    "\n",
    "    if result['label'] == 'neg':\n",
    "        label.append(0)\n",
    "    elif result['label'] == 'neutral':\n",
    "        label.append(1)\n",
    "    elif result['label'] == 'pos':\n",
    "        label.append(2)\n",
    "    else:\n",
    "        label.append(-1)\n",
    "\n",
    "data['negativeCoefficient'] = pd.DataFrame(neg)\n",
    "data['neutralCoefficient'] = pd.DataFrame(neutral)\n",
    "data['positiveCoefficient'] = pd.DataFrame(pos)\n",
    "data['sentimentLabel'] = pd.DataFrame(label)\n",
    "\n",
    "data.shape"
   ]
  },
  {
   "cell_type": "code",
   "execution_count": 37,
   "metadata": {
    "collapsed": false
   },
   "outputs": [
    {
     "data": {
      "text/html": [
       "<div>\n",
       "<table border=\"1\" class=\"dataframe\">\n",
       "  <thead>\n",
       "    <tr style=\"text-align: right;\">\n",
       "      <th></th>\n",
       "      <th>textDisplay</th>\n",
       "      <th>textDisplayProcessed</th>\n",
       "      <th>textDisplayLength</th>\n",
       "      <th>textDisplayProcessedLength</th>\n",
       "      <th>textDisplayWordsCount</th>\n",
       "      <th>textDisplayProcessedWordsCount</th>\n",
       "      <th>hatewordsCount</th>\n",
       "      <th>hatewordsRatio</th>\n",
       "      <th>readabilityScore</th>\n",
       "      <th>negativeCoefficient</th>\n",
       "      <th>neutralCoefficient</th>\n",
       "      <th>positiveCoefficient</th>\n",
       "      <th>sentimentLabel</th>\n",
       "    </tr>\n",
       "  </thead>\n",
       "  <tbody>\n",
       "    <tr>\n",
       "      <th>0</th>\n",
       "      <td>It has been explained many times - they simply...</td>\n",
       "      <td>explained many time - simply believe Trump say...</td>\n",
       "      <td>741</td>\n",
       "      <td>479</td>\n",
       "      <td>130</td>\n",
       "      <td>71</td>\n",
       "      <td>6</td>\n",
       "      <td>0.084507</td>\n",
       "      <td>6.5</td>\n",
       "      <td>0.851879</td>\n",
       "      <td>0.700882</td>\n",
       "      <td>0.148121</td>\n",
       "      <td>1</td>\n",
       "    </tr>\n",
       "    <tr>\n",
       "      <th>1</th>\n",
       "      <td>+zebbedi I'm comparing your pipe dream to thos...</td>\n",
       "      <td>+zebbedi I'm comparing pipe dream lottery winn...</td>\n",
       "      <td>71</td>\n",
       "      <td>50</td>\n",
       "      <td>12</td>\n",
       "      <td>7</td>\n",
       "      <td>0</td>\n",
       "      <td>0.000000</td>\n",
       "      <td>8.0</td>\n",
       "      <td>0.391210</td>\n",
       "      <td>0.377894</td>\n",
       "      <td>0.608790</td>\n",
       "      <td>2</td>\n",
       "    </tr>\n",
       "    <tr>\n",
       "      <th>2</th>\n",
       "      <td>yes</td>\n",
       "      <td>yes</td>\n",
       "      <td>3</td>\n",
       "      <td>3</td>\n",
       "      <td>1</td>\n",
       "      <td>1</td>\n",
       "      <td>0</td>\n",
       "      <td>0.000000</td>\n",
       "      <td>-4.6</td>\n",
       "      <td>0.476390</td>\n",
       "      <td>0.485560</td>\n",
       "      <td>0.523610</td>\n",
       "      <td>2</td>\n",
       "    </tr>\n",
       "    <tr>\n",
       "      <th>3</th>\n",
       "      <td>+Maxwell Montgomery That is a very restrictive...</td>\n",
       "      <td>+Maxwell Montgomery restrictive interpretation...</td>\n",
       "      <td>120</td>\n",
       "      <td>84</td>\n",
       "      <td>19</td>\n",
       "      <td>10</td>\n",
       "      <td>1</td>\n",
       "      <td>0.100000</td>\n",
       "      <td>13.1</td>\n",
       "      <td>0.309484</td>\n",
       "      <td>0.265367</td>\n",
       "      <td>0.690516</td>\n",
       "      <td>2</td>\n",
       "    </tr>\n",
       "    <tr>\n",
       "      <th>4</th>\n",
       "      <td>Well Tyler .. Do you ever ask yourself why bot...</td>\n",
       "      <td>Well Tyler .. ever ask party people hate them....</td>\n",
       "      <td>163</td>\n",
       "      <td>92</td>\n",
       "      <td>30</td>\n",
       "      <td>14</td>\n",
       "      <td>1</td>\n",
       "      <td>0.071429</td>\n",
       "      <td>7.8</td>\n",
       "      <td>0.473563</td>\n",
       "      <td>0.209780</td>\n",
       "      <td>0.526437</td>\n",
       "      <td>2</td>\n",
       "    </tr>\n",
       "  </tbody>\n",
       "</table>\n",
       "</div>"
      ],
      "text/plain": [
       "                                         textDisplay  \\\n",
       "0  It has been explained many times - they simply...   \n",
       "1  +zebbedi I'm comparing your pipe dream to thos...   \n",
       "2                                                yes   \n",
       "3  +Maxwell Montgomery That is a very restrictive...   \n",
       "4  Well Tyler .. Do you ever ask yourself why bot...   \n",
       "\n",
       "                                textDisplayProcessed  textDisplayLength  \\\n",
       "0  explained many time - simply believe Trump say...                741   \n",
       "1  +zebbedi I'm comparing pipe dream lottery winn...                 71   \n",
       "2                                                yes                  3   \n",
       "3  +Maxwell Montgomery restrictive interpretation...                120   \n",
       "4  Well Tyler .. ever ask party people hate them....                163   \n",
       "\n",
       "   textDisplayProcessedLength  textDisplayWordsCount  \\\n",
       "0                         479                    130   \n",
       "1                          50                     12   \n",
       "2                           3                      1   \n",
       "3                          84                     19   \n",
       "4                          92                     30   \n",
       "\n",
       "   textDisplayProcessedWordsCount  hatewordsCount  hatewordsRatio  \\\n",
       "0                              71               6        0.084507   \n",
       "1                               7               0        0.000000   \n",
       "2                               1               0        0.000000   \n",
       "3                              10               1        0.100000   \n",
       "4                              14               1        0.071429   \n",
       "\n",
       "   readabilityScore  negativeCoefficient  neutralCoefficient  \\\n",
       "0               6.5             0.851879            0.700882   \n",
       "1               8.0             0.391210            0.377894   \n",
       "2              -4.6             0.476390            0.485560   \n",
       "3              13.1             0.309484            0.265367   \n",
       "4               7.8             0.473563            0.209780   \n",
       "\n",
       "   positiveCoefficient  sentimentLabel  \n",
       "0             0.148121               1  \n",
       "1             0.608790               2  \n",
       "2             0.523610               2  \n",
       "3             0.690516               2  \n",
       "4             0.526437               2  "
      ]
     },
     "execution_count": 37,
     "metadata": {},
     "output_type": "execute_result"
    }
   ],
   "source": [
    "data"
   ]
  },
  {
   "cell_type": "markdown",
   "metadata": {},
   "source": [
    "## Normalizácia"
   ]
  },
  {
   "cell_type": "code",
   "execution_count": 42,
   "metadata": {
    "collapsed": false
   },
   "outputs": [
    {
     "data": {
      "text/plain": [
       "(5, 13)"
      ]
     },
     "execution_count": 42,
     "metadata": {},
     "output_type": "execute_result"
    }
   ],
   "source": [
    "ignore_list = ['textDisplay', 'textDisplayProcessed']\n",
    "data_norm = deepcopy(data)\n",
    "\n",
    "for key in data:\n",
    "    if key not in ignore_list:\n",
    "        temp = []\n",
    "        d_min = data[key].min()\n",
    "        d_max = data[key].max()\n",
    "\n",
    "        for x in data[key]:\n",
    "            if (d_max - d_min) != 0:\n",
    "                val = (x - d_min) / (d_max - d_min)\n",
    "                temp.append(val)\n",
    "            else:\n",
    "                temp.append(0)\n",
    "\n",
    "        data_norm[key] = pd.DataFrame(temp)\n",
    "\n",
    "data_norm.shape"
   ]
  },
  {
   "cell_type": "code",
   "execution_count": 43,
   "metadata": {
    "collapsed": false
   },
   "outputs": [
    {
     "data": {
      "text/html": [
       "<div>\n",
       "<table border=\"1\" class=\"dataframe\">\n",
       "  <thead>\n",
       "    <tr style=\"text-align: right;\">\n",
       "      <th></th>\n",
       "      <th>textDisplay</th>\n",
       "      <th>textDisplayProcessed</th>\n",
       "      <th>textDisplayLength</th>\n",
       "      <th>textDisplayProcessedLength</th>\n",
       "      <th>textDisplayWordsCount</th>\n",
       "      <th>textDisplayProcessedWordsCount</th>\n",
       "      <th>hatewordsCount</th>\n",
       "      <th>hatewordsRatio</th>\n",
       "      <th>readabilityScore</th>\n",
       "      <th>negativeCoefficient</th>\n",
       "      <th>neutralCoefficient</th>\n",
       "      <th>positiveCoefficient</th>\n",
       "      <th>sentimentLabel</th>\n",
       "    </tr>\n",
       "  </thead>\n",
       "  <tbody>\n",
       "    <tr>\n",
       "      <th>0</th>\n",
       "      <td>It has been explained many times - they simply...</td>\n",
       "      <td>explained many time - simply believe Trump say...</td>\n",
       "      <td>1.000000</td>\n",
       "      <td>1.000000</td>\n",
       "      <td>1.000000</td>\n",
       "      <td>1.000000</td>\n",
       "      <td>1.000000</td>\n",
       "      <td>0.845070</td>\n",
       "      <td>0.627119</td>\n",
       "      <td>1.000000</td>\n",
       "      <td>1.000000</td>\n",
       "      <td>0.000000</td>\n",
       "      <td>0.0</td>\n",
       "    </tr>\n",
       "    <tr>\n",
       "      <th>1</th>\n",
       "      <td>+zebbedi I'm comparing your pipe dream to thos...</td>\n",
       "      <td>+zebbedi I'm comparing pipe dream lottery winn...</td>\n",
       "      <td>0.092141</td>\n",
       "      <td>0.098739</td>\n",
       "      <td>0.085271</td>\n",
       "      <td>0.085714</td>\n",
       "      <td>0.000000</td>\n",
       "      <td>0.000000</td>\n",
       "      <td>0.711864</td>\n",
       "      <td>0.150677</td>\n",
       "      <td>0.342320</td>\n",
       "      <td>0.849323</td>\n",
       "      <td>1.0</td>\n",
       "    </tr>\n",
       "    <tr>\n",
       "      <th>2</th>\n",
       "      <td>yes</td>\n",
       "      <td>yes</td>\n",
       "      <td>0.000000</td>\n",
       "      <td>0.000000</td>\n",
       "      <td>0.000000</td>\n",
       "      <td>0.000000</td>\n",
       "      <td>0.000000</td>\n",
       "      <td>0.000000</td>\n",
       "      <td>0.000000</td>\n",
       "      <td>0.307722</td>\n",
       "      <td>0.561554</td>\n",
       "      <td>0.692278</td>\n",
       "      <td>1.0</td>\n",
       "    </tr>\n",
       "    <tr>\n",
       "      <th>3</th>\n",
       "      <td>+Maxwell Montgomery That is a very restrictive...</td>\n",
       "      <td>+Maxwell Montgomery restrictive interpretation...</td>\n",
       "      <td>0.158537</td>\n",
       "      <td>0.170168</td>\n",
       "      <td>0.139535</td>\n",
       "      <td>0.128571</td>\n",
       "      <td>0.166667</td>\n",
       "      <td>1.000000</td>\n",
       "      <td>1.000000</td>\n",
       "      <td>0.000000</td>\n",
       "      <td>0.113187</td>\n",
       "      <td>1.000000</td>\n",
       "      <td>1.0</td>\n",
       "    </tr>\n",
       "    <tr>\n",
       "      <th>4</th>\n",
       "      <td>Well Tyler .. Do you ever ask yourself why bot...</td>\n",
       "      <td>Well Tyler .. ever ask party people hate them....</td>\n",
       "      <td>0.216802</td>\n",
       "      <td>0.186975</td>\n",
       "      <td>0.224806</td>\n",
       "      <td>0.185714</td>\n",
       "      <td>0.166667</td>\n",
       "      <td>0.714286</td>\n",
       "      <td>0.700565</td>\n",
       "      <td>0.302509</td>\n",
       "      <td>0.000000</td>\n",
       "      <td>0.697491</td>\n",
       "      <td>1.0</td>\n",
       "    </tr>\n",
       "  </tbody>\n",
       "</table>\n",
       "</div>"
      ],
      "text/plain": [
       "                                         textDisplay  \\\n",
       "0  It has been explained many times - they simply...   \n",
       "1  +zebbedi I'm comparing your pipe dream to thos...   \n",
       "2                                                yes   \n",
       "3  +Maxwell Montgomery That is a very restrictive...   \n",
       "4  Well Tyler .. Do you ever ask yourself why bot...   \n",
       "\n",
       "                                textDisplayProcessed  textDisplayLength  \\\n",
       "0  explained many time - simply believe Trump say...           1.000000   \n",
       "1  +zebbedi I'm comparing pipe dream lottery winn...           0.092141   \n",
       "2                                                yes           0.000000   \n",
       "3  +Maxwell Montgomery restrictive interpretation...           0.158537   \n",
       "4  Well Tyler .. ever ask party people hate them....           0.216802   \n",
       "\n",
       "   textDisplayProcessedLength  textDisplayWordsCount  \\\n",
       "0                    1.000000               1.000000   \n",
       "1                    0.098739               0.085271   \n",
       "2                    0.000000               0.000000   \n",
       "3                    0.170168               0.139535   \n",
       "4                    0.186975               0.224806   \n",
       "\n",
       "   textDisplayProcessedWordsCount  hatewordsCount  hatewordsRatio  \\\n",
       "0                        1.000000        1.000000        0.845070   \n",
       "1                        0.085714        0.000000        0.000000   \n",
       "2                        0.000000        0.000000        0.000000   \n",
       "3                        0.128571        0.166667        1.000000   \n",
       "4                        0.185714        0.166667        0.714286   \n",
       "\n",
       "   readabilityScore  negativeCoefficient  neutralCoefficient  \\\n",
       "0          0.627119             1.000000            1.000000   \n",
       "1          0.711864             0.150677            0.342320   \n",
       "2          0.000000             0.307722            0.561554   \n",
       "3          1.000000             0.000000            0.113187   \n",
       "4          0.700565             0.302509            0.000000   \n",
       "\n",
       "   positiveCoefficient  sentimentLabel  \n",
       "0             0.000000             0.0  \n",
       "1             0.849323             1.0  \n",
       "2             0.692278             1.0  \n",
       "3             1.000000             1.0  \n",
       "4             0.697491             1.0  "
      ]
     },
     "execution_count": 43,
     "metadata": {},
     "output_type": "execute_result"
    }
   ],
   "source": [
    "data_norm"
   ]
  },
  {
   "cell_type": "code",
   "execution_count": null,
   "metadata": {
    "collapsed": true
   },
   "outputs": [],
   "source": []
  }
 ],
 "metadata": {
  "anaconda-cloud": {},
  "kernelspec": {
   "display_name": "Python [conda root]",
   "language": "python",
   "name": "conda-root-py"
  },
  "language_info": {
   "codemirror_mode": {
    "name": "ipython",
    "version": 3
   },
   "file_extension": ".py",
   "mimetype": "text/x-python",
   "name": "python",
   "nbconvert_exporter": "python",
   "pygments_lexer": "ipython3",
   "version": "3.5.2"
  }
 },
 "nbformat": 4,
 "nbformat_minor": 1
}
