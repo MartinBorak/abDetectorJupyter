{
 "cells": [
  {
   "cell_type": "markdown",
   "metadata": {},
   "source": [
    "# Porovnanie klasifikátorov strojového učenia"
   ]
  },
  {
   "cell_type": "code",
   "execution_count": 1,
   "metadata": {
    "collapsed": true
   },
   "outputs": [],
   "source": [
    "import pandas as pd\n",
    "from sklearn.dummy import DummyClassifier\n",
    "from sklearn.ensemble import RandomForestClassifier, AdaBoostClassifier, BaggingClassifier\n",
    "from sklearn.ensemble import ExtraTreesClassifier, GradientBoostingClassifier\n",
    "from sklearn.linear_model import LogisticRegression, PassiveAggressiveClassifier, RidgeClassifier\n",
    "from sklearn.naive_bayes import MultinomialNB, BernoulliNB\n",
    "from sklearn.neighbors import KNeighborsClassifier, NearestCentroid\n",
    "from sklearn.neural_network import MLPClassifier\n",
    "from sklearn.tree import DecisionTreeClassifier, ExtraTreeClassifier\n",
    "from sklearn.svm import SVC\n",
    "from sklearn.metrics import f1_score, accuracy_score, precision_score, recall_score"
   ]
  },
  {
   "cell_type": "markdown",
   "metadata": {},
   "source": [
    "### Funkcia na výpočet priemeru"
   ]
  },
  {
   "cell_type": "code",
   "execution_count": 6,
   "metadata": {
    "collapsed": true
   },
   "outputs": [],
   "source": [
    "def mean(numbers):\n",
    "    return float(sum(numbers)) / max(len(numbers), 1)"
   ]
  },
  {
   "cell_type": "markdown",
   "metadata": {},
   "source": [
    "### Funkcia ktorá trénuje a testuje algoritmy SU"
   ]
  },
  {
   "cell_type": "code",
   "execution_count": 2,
   "metadata": {
    "collapsed": true
   },
   "outputs": [],
   "source": [
    "def run(k, labels, classifier):\n",
    "    accuracy = []\n",
    "    precision = []\n",
    "    recall = []\n",
    "    f1 = []\n",
    "\n",
    "    for j in range(k):\n",
    "        data_train = pd.read_csv('norm_sets/train/train_data%d.csv' % j)\n",
    "        data_test = pd.read_csv('norm_sets/test/test_data%d.csv' % j)\n",
    "\n",
    "        x_train = data_train[labels]\n",
    "        x_test = data_test[labels]\n",
    "        y_train = data_train['hateLabel']\n",
    "        y_test = list(data_test['hateLabel'])\n",
    "\n",
    "        classifier.fit(x_train, y_train)\n",
    "        y_pred = list(classifier.predict(x_test))\n",
    "\n",
    "        accuracy.append(accuracy_score(y_test, y_pred))\n",
    "        precision.append(precision_score(y_test, y_pred))\n",
    "        recall.append(recall_score(y_test, y_pred))\n",
    "        f1.append(f1_score(y_test, y_pred))\n",
    "\n",
    "    mean_eval = {\n",
    "        'accuracy': mean(accuracy),\n",
    "        'precision': mean(precision),\n",
    "        'recall': mean(recall),\n",
    "        'f1_score': mean(f1)\n",
    "    }\n",
    "\n",
    "    return mean_eval"
   ]
  },
  {
   "cell_type": "markdown",
   "metadata": {},
   "source": [
    "### Funkcia na otestovanie všetkých algoritmov"
   ]
  },
  {
   "cell_type": "code",
   "execution_count": 8,
   "metadata": {
    "collapsed": true
   },
   "outputs": [],
   "source": [
    "def test_all_classifiers(k, labels):\n",
    "\n",
    "    print('classifier,accuracy,precision,recall,f1\\n')\n",
    "\n",
    "    classifiers = {\n",
    "        'dc': DummyClassifier(),\n",
    "        'rfc': RandomForestClassifier(\n",
    "            n_estimators=40,\n",
    "            n_jobs=-1,\n",
    "            max_features='log2'),\n",
    "#         'abc': AdaBoostClassifier(\n",
    "#             base_estimator=ExtraTreesClassifier(\n",
    "#                 n_estimators=200,\n",
    "#                 n_jobs=-1,\n",
    "#                 max_features='sqrt',\n",
    "#                 min_samples_leaf=1,\n",
    "#                 max_depth=5),\n",
    "#             n_estimators=200),\n",
    "        'bc': BaggingClassifier(n_jobs=-1),\n",
    "        'etc': ExtraTreesClassifier(\n",
    "            n_estimators=200,\n",
    "            n_jobs=-1,\n",
    "            max_features='sqrt',\n",
    "            min_samples_leaf=1,\n",
    "            max_depth=5),\n",
    "        'gbc': GradientBoostingClassifier(),\n",
    "        'lr': LogisticRegression(n_jobs=-1),\n",
    "        'pac': PassiveAggressiveClassifier(n_jobs=-1),\n",
    "        'rc': RidgeClassifier(),\n",
    "        'mnb': MultinomialNB(),\n",
    "        'bnb': BernoulliNB(),\n",
    "        'knc': KNeighborsClassifier(n_jobs=-1),\n",
    "        'nc': NearestCentroid(),\n",
    "        'mlp': MLPClassifier(\n",
    "            hidden_layer_sizes=(100,),\n",
    "            activation='relu',\n",
    "            solver='adam',\n",
    "            alpha=0.0002,\n",
    "            learning_rate='invscaling',\n",
    "            max_iter=300),\n",
    "        'dtc': DecisionTreeClassifier(),\n",
    "        'etc2': ExtraTreeClassifier(),\n",
    "        'svc_rbf': SVC(),\n",
    "    }\n",
    "    \n",
    "    for classifier_key, classifier in sorted(classifiers.items()):\n",
    "        mean_eval = run(k=k, labels=labels, classifier=classifier)\n",
    "\n",
    "        print('%s,%s,%s,%s,%s\\n' % (\n",
    "            classifier_key,\n",
    "            mean_eval['accuracy'],\n",
    "            mean_eval['precision'],\n",
    "            mean_eval['recall'],\n",
    "            mean_eval['f1_score']))"
   ]
  },
  {
   "cell_type": "markdown",
   "metadata": {},
   "source": [
    "### Voľba čŕt"
   ]
  },
  {
   "cell_type": "code",
   "execution_count": 4,
   "metadata": {
    "collapsed": true
   },
   "outputs": [],
   "source": [
    "labels = [\n",
    "        # 'after', #H\n",
    "        'badWordsCount',\n",
    "        'badWordsRatio',\n",
    "        # 'before', #H\n",
    "        'capitalLetterRatio',\n",
    "        'capitalWordRatio',\n",
    "        'diversityScore',\n",
    "        'emoticonCount',\n",
    "        'emoticonToWordRatio',\n",
    "        'firstPronounsCount',\n",
    "        'firstPronounsToWordRatio',\n",
    "        'hatewordsCount',\n",
    "        'hatewordsRatio',\n",
    "        'insultsCount',\n",
    "        'insultsRatio',\n",
    "        # 'isComment', #H\n",
    "        'negativeCoefficient',\n",
    "        'neutralCoefficient',\n",
    "        'positiveCoefficient',\n",
    "        # 'profanityWindow2',\n",
    "        # 'profanityWindow3',\n",
    "        # 'profanityWindow4',\n",
    "        # 'profanityWindow5',\n",
    "        'punctuationRatio',\n",
    "        'readabilityScore',\n",
    "        'secondPronounsCount',\n",
    "        'secondPronounsToWordRatio',\n",
    "        'sentimentLabel',\n",
    "        'textDisplayLength',\n",
    "        'textDisplayProcessedLength',\n",
    "        'textDisplayProcessedWordsCount',\n",
    "        'textDisplayWordsCount',\n",
    "        'totalReplyCount',\n",
    "        # 'diffBadWordsCount', #H\n",
    "        # 'diffBadWordsRatio', #H\n",
    "        # 'diffCapitalLetterRatio', #H\n",
    "        # 'diffCapitalWordRatio', #H\n",
    "        # 'diffEmoticonCount', #H\n",
    "        # 'diffEmoticonToWordRatio', #H\n",
    "        # 'diffFirstPronounsCount', #H\n",
    "        # 'diffFirstPronounsToWordRatio', #H\n",
    "        # 'diffHatewordsCount', #H\n",
    "        # 'diffHatewordsRatio', #H\n",
    "        # 'diffInsultsCount', #H\n",
    "        # 'diffInsultsRatio', #H\n",
    "        # 'diffNegativeCoefficient', #H\n",
    "        # 'diffNeutralCoefficient', #H\n",
    "        # 'diffPositiveCoefficient', #H\n",
    "        # 'diffProfanityWindow2', #H\n",
    "        # 'diffProfanityWindow3', #H\n",
    "        # 'diffProfanityWindow4', #H\n",
    "        # 'diffProfanityWindow5', #H\n",
    "        # 'diffPunctuationRatio', #H\n",
    "        # 'diffSecondPronounsCount', #H\n",
    "        # 'diffSecondPronounsToWordRatio', #H\n",
    "        # 'diffTextDisplayLength', #H\n",
    "        # 'diffTextDisplayProcessedLength', #H\n",
    "        # 'diffTextDisplayProcessedWordsCount', #H\n",
    "        # 'diffTextDisplayWordsCount', #H\n",
    "        # 'threadAnger', #H\n",
    "        # 'threadDisgust', #H\n",
    "        # 'threadFear', #H\n",
    "        # 'threadJoy', #H\n",
    "        # 'threadSadness', #H\n",
    "        # 'threadAnalytical', #H\n",
    "        # 'threadConfident', #H\n",
    "        # 'threadTentative', #H\n",
    "        # 'threadOpennessBig5', #H\n",
    "        # 'threadConscientiousnessBig5', #H\n",
    "        # 'threadExtraversionBig5', #H\n",
    "        # 'threadAgreeablenessBig5', #H\n",
    "        # 'threadEmotionalRangeBig5', #H\n",
    "        'anger',\n",
    "        'disgust',\n",
    "        'fear',\n",
    "        'joy',\n",
    "        'sadness',\n",
    "        'analytical',\n",
    "        'confident',\n",
    "        'tentative',\n",
    "        'opennessBig5',\n",
    "        'conscientiousnessBig5',\n",
    "        'extraversionBig5',\n",
    "        'agreeablenessBig5',\n",
    "        'emotionalRangeBig5',\n",
    "        'likeCount',\n",
    "        # 'diffLikeCount', #H\n",
    "        'userAverageBadWordsCount',\n",
    "        'userAverageBadWordsRatio',\n",
    "        'userAverageCapitalLetterRatio',\n",
    "        'userAverageCapitalWordRatio',\n",
    "        'userAverageEmoticonCount',\n",
    "        'userAverageEmoticonToWordRatio',\n",
    "        'userAverageFirstPronounsCount',\n",
    "        'userAverageFirstPronounsToWordRatio',\n",
    "        'userAverageHatewordsCount',\n",
    "        'userAverageHatewordsRatio',\n",
    "        'userAverageInsultsCount',\n",
    "        'userAverageInsultsRatio',\n",
    "        'userAverageLikeCount',\n",
    "        'userAverageNegativeCoefficient',\n",
    "        'userAverageNeutralCoefficient',\n",
    "        'userAveragePositiveCoefficient',\n",
    "        'userAverageProfanityWindow2',\n",
    "        # 'userAverageProfanityWindow3',\n",
    "        # 'userAverageProfanityWindow4',\n",
    "        # 'userAverageProfanityWindow5',\n",
    "        'userAveragePunctuationRatio',\n",
    "        'userAverageSecondPronounsCount',\n",
    "        'userAverageSecondPronounsToWordRatio',\n",
    "        'userAverageTextDisplayLength',\n",
    "        'userAverageTextDisplayProcessedLength',\n",
    "        'userAverageTextDisplayProcessedWordsCount',\n",
    "        'userAverageTextDisplayWordsCount',\n",
    "        'userNumberOfComments',\n",
    "        'userNumberOfContent',\n",
    "        'userNumberOfReplies'\n",
    "    ]"
   ]
  },
  {
   "cell_type": "markdown",
   "metadata": {},
   "source": [
    "### Zavolanie funkcie\n",
    "Môže trvať niekoľko minút"
   ]
  },
  {
   "cell_type": "code",
   "execution_count": 9,
   "metadata": {
    "collapsed": false
   },
   "outputs": [
    {
     "name": "stdout",
     "output_type": "stream",
     "text": [
      "classifier,accuracy,precision,recall,f1\n",
      "\n",
      "bc,0.7801038623823433,0.49269841269841275,0.3060344488672662,0.3703773497866451\n",
      "\n",
      "bnb,0.6495456020772477,0.34472696652629764,0.6666412354415451,0.44970485927415976\n",
      "\n",
      "dc,0.49870172022070747,0.21506241392944775,0.4944172932330827,0.29891261366044886\n",
      "\n",
      "dtc,0.7417721518987342,0.39167671046591496,0.4002220625092142,0.39210757562351334\n",
      "\n",
      "etc,0.7775073028237586,0.5077620513301628,0.6088762347044081,0.5431337197564968\n",
      "\n",
      "etc2,0.7352482960077898,0.36786435786435784,0.3177427023440956,0.3299345737276772\n",
      "\n",
      "gbc,0.800519311911717,0.5519329100850839,0.5361819991154356,0.5347536230299457\n",
      "\n",
      "knc,0.60238558909445,0.2719005602240897,0.4965216963978573,0.3483383587031003\n",
      "\n",
      "lr,0.7070431678026616,0.40739427552886626,0.6657214727996461,0.4969146321452791\n",
      "\n"
     ]
    },
    {
     "name": "stderr",
     "output_type": "stream",
     "text": [
      "/home/martin/anaconda3/lib/python3.5/site-packages/sklearn/neural_network/multilayer_perceptron.py:563: ConvergenceWarning: Stochastic Optimizer: Maximum iterations reached and the optimization hasn't converged yet.\n",
      "  % (), ConvergenceWarning)\n"
     ]
    },
    {
     "name": "stdout",
     "output_type": "stream",
     "text": [
      "mlp,0.7711619604024668,0.48239112710474946,0.5191291341097843,0.48956961650684805\n",
      "\n",
      "mnb,0.704479065238559,0.3972890899949723,0.6414450955820924,0.48399478847155547\n",
      "\n",
      "nc,0.646965271015904,0.3355098820251622,0.6275352597179222,0.43395181779343267\n",
      "\n",
      "pac,0.5248296007789678,0.36282386415501616,0.6593522408963586,0.34857049706611104\n",
      "\n",
      "rc,0.717315806556313,0.4170543208575663,0.6713260479630448,0.5068632508840326\n",
      "\n",
      "rfc,0.8223141837065887,0.7137606837606837,0.35077122954444934,0.44834160785290056\n",
      "\n",
      "svc_rbf,0.6532943849399545,0.34754536701924843,0.6472125165855817,0.4477720638137449\n",
      "\n"
     ]
    }
   ],
   "source": [
    "test_all_classifiers(k=10, labels=labels)"
   ]
  },
  {
   "cell_type": "code",
   "execution_count": null,
   "metadata": {
    "collapsed": true
   },
   "outputs": [],
   "source": []
  }
 ],
 "metadata": {
  "anaconda-cloud": {},
  "kernelspec": {
   "display_name": "Python [conda root]",
   "language": "python",
   "name": "conda-root-py"
  },
  "language_info": {
   "codemirror_mode": {
    "name": "ipython",
    "version": 3
   },
   "file_extension": ".py",
   "mimetype": "text/x-python",
   "name": "python",
   "nbconvert_exporter": "python",
   "pygments_lexer": "ipython3",
   "version": "3.5.2"
  }
 },
 "nbformat": 4,
 "nbformat_minor": 1
}
